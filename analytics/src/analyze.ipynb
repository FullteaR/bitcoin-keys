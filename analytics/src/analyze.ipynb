{
 "cells": [
  {
   "cell_type": "code",
   "execution_count": 2,
   "id": "b08343f1-aa5b-4672-b5c4-65a2d8d913c8",
   "metadata": {},
   "outputs": [],
   "source": [
    "import json\n",
    "import leveldb\n",
    "from dbutils import *\n",
    "from tqdm.auto import tqdm\n",
    "import os"
   ]
  },
  {
   "cell_type": "code",
   "execution_count": null,
   "id": "b6e80d45-e679-4396-a41d-916a79fee4f3",
   "metadata": {},
   "outputs": [],
   "source": [
    "class LevelDict:\n",
    "    \n",
    "    def __init__(self, filepath, create_if_missing=True):\n",
    "        this.db = leveldb.LevelDB(filepath, create_if_missing=create_if_missing)\n",
    "        this.open = True\n",
    "\n",
    "    def __checkState(self):\n",
    "        assert this.open\n",
    "\n",
    "\n",
    "    def __encode(self, item):\n",
    "        return pickle.dumps(item)\n",
    "\n",
    "    \n",
    "    def __decode(self, item):\n",
    "        return pickle.loads\n",
    "\n",
    "                 \n",
    "    def __getitem__(self, key):\n",
    "        __checkState()\n",
    "        key_bytes = __encode(key)\n",
    "        value_bytes = "
   ]
  },
  {
   "cell_type": "code",
   "execution_count": null,
   "id": "6b0a14a8",
   "metadata": {},
   "outputs": [],
   "source": [
    "db_path = os.path.join(\"/db\",\"analytics.db\") \n",
    "db = LevelDict(db_path)"
   ]
  },
  {
   "cell_type": "code",
   "execution_count": 3,
   "id": "c4c49c3a",
   "metadata": {},
   "outputs": [],
   "source": [
    "dbpath_bitcoin_main = os.path.join(\"/db\",\"bitcoin-main.db\") \n",
    "db_bitcoin_main = leveldb.LevelDB(dbpath_bitcoin_main)\n",
    "\n",
    "dbpath_bitcoin_test = os.path.join(\"/db\",\"bitcoin-test.db\") \n",
    "db_bitcoin_test = leveldb.LevelDB(dbpath_bitcoin_test)"
   ]
  },
  {
   "cell_type": "code",
   "execution_count": null,
   "id": "9f45e885",
   "metadata": {},
   "outputs": [],
   "source": [
    "for height, result in db_bitcoin_main.RangeIter(key_from=None, key_to=None, include_value=False):\n",
    "    print(height, result)\n",
    "    for txid in result:\n",
    "        for iter_ in result[txid]:\n",
    "            r,s = iter_[0]\n",
    "            x,y = iter_[1]\n",
    "            key = (r,x,y)\n",
    "            value = {\n",
    "                \"height\":height,\n",
    "                \"tx\":txid,\n",
    "                \"s\":s,\n",
    "            }\n",
    "            if isin(db, key):\n",
    "                tmp = get(db, key)\n",
    "                tmp.append(value)\n",
    "                put(db, key, tmp)\n",
    "            else:\n",
    "                put(db, key, [value])"
   ]
  },
  {
   "cell_type": "code",
   "execution_count": 6,
   "id": "8e705a5a-0f6e-427a-82f1-924cd0bd4b67",
   "metadata": {},
   "outputs": [
    {
     "name": "stdout",
     "output_type": "stream",
     "text": [
      "bytearray(b'1') bytearray(b'{\"0e3e2357e806b6cdb1f70b54c3a3a17b6714ee1f0e68bebb44a74b1efd512098\": []}')\n"
     ]
    }
   ],
   "source": [
    "for height, value in db_bitcoin_main.RangeIter(key_from=None, key_to=None, include_value=True):\n",
    "    print(height, value)\n",
    "    break"
   ]
  },
  {
   "cell_type": "code",
   "execution_count": null,
   "id": "4249bdb5-d147-480d-bbf5-a786a45f0e86",
   "metadata": {},
   "outputs": [],
   "source": [
    "type(dict)"
   ]
  },
  {
   "cell_type": "code",
   "execution_count": null,
   "id": "3a5c3ecf-6d8d-419b-8233-4520b7a163c2",
   "metadata": {},
   "outputs": [],
   "source": [
    "type(leveldb)"
   ]
  },
  {
   "cell_type": "code",
   "execution_count": null,
   "id": "f0d1fa4e-e434-4a33-a3b0-041aaa8bf88e",
   "metadata": {},
   "outputs": [],
   "source": [
    "import json"
   ]
  },
  {
   "cell_type": "code",
   "execution_count": null,
   "id": "79d8cd12-8d04-43b9-932a-d7e1078f0830",
   "metadata": {},
   "outputs": [],
   "source": [
    "a = set([1,2,\"345\"])\n",
    "json.dumps(a)"
   ]
  },
  {
   "cell_type": "code",
   "execution_count": null,
   "id": "a260a3bb-44b4-4299-920b-46def097f033",
   "metadata": {},
   "outputs": [],
   "source": [
    "import pickle"
   ]
  },
  {
   "cell_type": "code",
   "execution_count": null,
   "id": "d6fa767c-d2be-49ef-8249-33aca544e5de",
   "metadata": {},
   "outputs": [],
   "source": [
    "x = pickle.dumps(a)"
   ]
  },
  {
   "cell_type": "code",
   "execution_count": null,
   "id": "b4391663-6bf7-45bb-bc16-7935f4d42e8e",
   "metadata": {},
   "outputs": [],
   "source": [
    "pickle.loads(x)"
   ]
  },
  {
   "cell_type": "code",
   "execution_count": null,
   "id": "96a3fa17-dfec-4fe7-9d31-66f0deca7761",
   "metadata": {},
   "outputs": [],
   "source": []
  }
 ],
 "metadata": {
  "kernelspec": {
   "display_name": "Python 3 (ipykernel)",
   "language": "python",
   "name": "python3"
  },
  "language_info": {
   "codemirror_mode": {
    "name": "ipython",
    "version": 3
   },
   "file_extension": ".py",
   "mimetype": "text/x-python",
   "name": "python",
   "nbconvert_exporter": "python",
   "pygments_lexer": "ipython3",
   "version": "3.11.6"
  }
 },
 "nbformat": 4,
 "nbformat_minor": 5
}
