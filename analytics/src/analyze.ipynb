{
 "cells": [
  {
   "cell_type": "code",
   "execution_count": 1,
   "id": "b08343f1-aa5b-4672-b5c4-65a2d8d913c8",
   "metadata": {},
   "outputs": [],
   "source": [
    "import json\n",
    "import leveldb\n",
    "from dbutils \n",
    "from tqdm.auto import tqdm"
   ]
  },
  {
   "cell_type": "code",
   "execution_count": null,
   "metadata": {},
   "outputs": [],
   "source": [
    "db_path = os.path.join(\"/db\",\"analytics.db\") \n",
    "db = leveldb.LevelDB(db_path, create_if_missing=True)"
   ]
  },
  {
   "cell_type": "code",
   "execution_count": null,
   "metadata": {},
   "outputs": [],
   "source": [
    "dbpath_bitcoin_main = os.path.join(\"/db\",\"bitcoin-main.db\") \n",
    "db_bitcoin_main = leveldb.LevelDB(dbpath_bitcoin_main)\n",
    "\n",
    "dbpath_bitcoin_test = os.path.join(\"/db\",\"bitcoin-test.db\") \n",
    "db_bitcoin_test = leveldb.LevelDB(dbpath_bitcoin_test)"
   ]
  },
  {
   "cell_type": "code",
   "execution_count": null,
   "metadata": {},
   "outputs": [],
   "source": [
    "for height, result in db_bitcoin_main.RangeIter(key_from=None, key_to=None, include_value=False):\n",
    "    for txid in result:\n",
    "        for iter_ in result[txid]:\n",
    "            r,s = iter_[0]\n",
    "            x,y = iter_[1]\n",
    "            key = (r,x,y)\n",
    "            value = {\n",
    "                \"height\":height,\n",
    "                \"tx\":txid,\n",
    "                \"s\":s,\n",
    "            }\n",
    "            if isin(db, key):\n",
    "                tmp = get(db, key)\n",
    "                tmp.append(value)\n",
    "                put(db, key, tmp)\n",
    "            else:\n",
    "                put(db, key, [value])"
   ]
  },
  {
   "cell_type": "code",
   "execution_count": null,
   "id": "8e705a5a-0f6e-427a-82f1-924cd0bd4b67",
   "metadata": {},
   "outputs": [],
   "source": []
  }
 ],
 "metadata": {
  "kernelspec": {
   "display_name": "Python 3 (ipykernel)",
   "language": "python",
   "name": "python3"
  },
  "language_info": {
   "codemirror_mode": {
    "name": "ipython",
    "version": 3
   },
   "file_extension": ".py",
   "mimetype": "text/x-python",
   "name": "python",
   "nbconvert_exporter": "python",
   "pygments_lexer": "ipython3",
   "version": "3.11.6"
  }
 },
 "nbformat": 4,
 "nbformat_minor": 5
}
